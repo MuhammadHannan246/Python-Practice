{
 "cells": [
  {
   "cell_type": "markdown",
   "id": "3ce720db",
   "metadata": {},
   "source": [
    "# Quadratic equation"
   ]
  },
  {
   "cell_type": "code",
   "execution_count": null,
   "id": "51daeb66",
   "metadata": {},
   "outputs": [],
   "source": [
    "import math\n",
    "a = int(input(\"Enter value of a: \"))\n",
    "b = int(input(\"Enter value of b: \"))\n",
    "c = int(input(\"Enter value of c: \"))\n",
    "\n",
    "x1 = (-b + math.sqrt(pow(b,2))-(4*a*c))/(2*a)\n",
    "x2 = (-b - math.sqrt(pow(b,2))-(4*a*c))/(2*a)\n",
    "print(\"----------------\")\n",
    "print(\"Value of a is: \",a)\n",
    "print(\"Value of b is: \",b)\n",
    "print(\"Value of c is: \",c)\n",
    "print(\"First root: \",x1)\n",
    "print(\"Second root\",x2)"
   ]
  },
  {
   "cell_type": "code",
   "execution_count": null,
   "id": "b0d2958a",
   "metadata": {},
   "outputs": [],
   "source": [
    "print(\"\"\"\n",
    "Twinkle, twinkle, little star,\n",
    "\tHow I wonder what you are! \n",
    "\t\tUp above the world so high,   \t\t\n",
    "\t\tLike a diamond in the sky. \n",
    "Twinkle, twinkle, little star, \n",
    "\tHow I wonder what you are\n",
    "\"\"\")"
   ]
  },
  {
   "cell_type": "code",
   "execution_count": null,
   "id": "46437603",
   "metadata": {},
   "outputs": [],
   "source": [
    "import sys\n",
    "print(\"Python version\",sys.version)\n",
    "print()\n",
    "print(\"Version information\", sys.version_info)\n",
    "print()"
   ]
  },
  {
   "cell_type": "code",
   "execution_count": null,
   "id": "50713bb2",
   "metadata": {},
   "outputs": [],
   "source": [
    "import datetime\n",
    "date = datetime.datetime.now()\n",
    "print (\"Date and time is: \",date)"
   ]
  },
  {
   "cell_type": "code",
   "execution_count": null,
   "id": "6dcabe92",
   "metadata": {},
   "outputs": [],
   "source": [
    "radius = int(input(\"Enter radius: \"))\n",
    "area = (math.pi)*pow(radius,2)\n",
    "print(\"Area of circle is: \",area)"
   ]
  },
  {
   "cell_type": "code",
   "execution_count": null,
   "id": "a8f95f0b",
   "metadata": {},
   "outputs": [],
   "source": [
    "first_name = input(\"Enter your first name: \")\n",
    "last_name = input(\"Enter your last name: \")\n",
    "print(\"\"+last_name+\" \"+first_name)"
   ]
  },
  {
   "cell_type": "code",
   "execution_count": null,
   "id": "1c14d7a6",
   "metadata": {},
   "outputs": [],
   "source": [
    "filename = input(\"Input the Filename: \")\n",
    "extension = filename.split(\".\")\n",
    "print(\"Entension is: \",extension[-1])"
   ]
  },
  {
   "cell_type": "code",
   "execution_count": null,
   "id": "6445a5d4",
   "metadata": {
    "scrolled": true
   },
   "outputs": [],
   "source": [
    "color_list = [\"Red\",\"White\",\"Blue\",\"Black\"]\n",
    "print(\"First color is: \",color_list[0])\n",
    "print(\"Second color is: \",color_list[-1])"
   ]
  },
  {
   "cell_type": "code",
   "execution_count": null,
   "id": "c00cc0ad",
   "metadata": {},
   "outputs": [],
   "source": [
    "n = int(input(\"Enter value of n: \"))\n",
    "print(\"Value of n: \",(n+(n*n)+(n*n*n)))"
   ]
  },
  {
   "cell_type": "code",
   "execution_count": null,
   "id": "6ac8ca01",
   "metadata": {
    "scrolled": true
   },
   "outputs": [],
   "source": [
    "import calendar\n",
    "year = int(input(\"Enter Current Year: \"))\n",
    "month = int(input(\"Enter Current Month\"))\n",
    "print(calendar.month(year,month))\n",
    "\n"
   ]
  },
  {
   "cell_type": "code",
   "execution_count": null,
   "id": "0a93a484",
   "metadata": {},
   "outputs": [],
   "source": [
    "from datetime import date\n",
    "fDate = date(2000,4,24)\n",
    "lDate = date(2022,4,24)\n",
    "dh = lDate - fDate\n",
    "print(dh.days)\n",
    "\n",
    "\n"
   ]
  },
  {
   "cell_type": "code",
   "execution_count": null,
   "id": "dc20fb33",
   "metadata": {},
   "outputs": [],
   "source": [
    "radius = int(input(\"Enter radius: \"))\n",
    "sphere = (4/3)*math.pi*pow(radius,3)\n",
    "print(sphere)"
   ]
  },
  {
   "cell_type": "markdown",
   "id": "4fe46180",
   "metadata": {},
   "source": [
    "Write a Python program to get the difference between a given number and 17, if the number is greater than 17 return double the absolute difference. "
   ]
  },
  {
   "cell_type": "code",
   "execution_count": null,
   "id": "629ab501",
   "metadata": {},
   "outputs": [],
   "source": [
    "givenNum = int(input(\"Enter a Num: \"))\n",
    "hardCodedNum = 17\n",
    "diff = givenNum - hardCodedNum\n",
    "if givenNum > hardCodedNum:\n",
    "    diff *= 2\n",
    "print(diff)"
   ]
  },
  {
   "cell_type": "code",
   "execution_count": null,
   "id": "476804c6",
   "metadata": {},
   "outputs": [],
   "source": [
    "num1 = int(input(\"Enter first number: \"))\n",
    "num2 = int(input(\"Enter second number: \"))\n",
    "num3 = int(input(\"Enter three number: \"))\n",
    "\n",
    "if num1 == num2 and num1 == num3:\n",
    "    print(\"Numbers are equal\\nThree times of \",num1,\" is: \",(3*num1))\n",
    "else:\n",
    "    print(\"Numbers are different!\")"
   ]
  },
  {
   "cell_type": "markdown",
   "id": "97ff56ea",
   "metadata": {},
   "source": [
    "# Write a Python program to find whether a given number (accept from the user) is even or odd, print out an appropriate message to the user."
   ]
  },
  {
   "cell_type": "code",
   "execution_count": 2,
   "id": "9195837a",
   "metadata": {},
   "outputs": [
    {
     "name": "stdout",
     "output_type": "stream",
     "text": [
      "Enter any num: 6\n",
      "Num is Even\n"
     ]
    }
   ],
   "source": [
    "num = int(input(\"Enter any num: \"))\n",
    "if num % 2 == 0:\n",
    "    print(\"Num is Even\")\n",
    "else:\n",
    "    print(\"Num is Odd\")"
   ]
  },
  {
   "cell_type": "code",
   "execution_count": 14,
   "id": "81afbeaa",
   "metadata": {},
   "outputs": [
    {
     "name": "stdout",
     "output_type": "stream",
     "text": [
      " 3\n"
     ]
    }
   ],
   "source": [
    "num = ['2','3','4','5','4','4']\n",
    "print(\"\",num.count('4'))"
   ]
  },
  {
   "cell_type": "code",
   "execution_count": 23,
   "id": "95d6127c",
   "metadata": {},
   "outputs": [
    {
     "name": "stdout",
     "output_type": "stream",
     "text": [
      "Enter Any Num: 2\n",
      "True\n"
     ]
    }
   ],
   "source": [
    "# Write a Python program to check whether a specified value is contained in a group of values. \n",
    "# Test Data :\n",
    "# 3 -> [1, 5, 8, 3] : True\n",
    "# -1 -> [1, 5, 8, 3] : False\n",
    "\n",
    "num = [1, 5, 8, 3]\n",
    "user = int(input(\"Enter Any Num: \"))\n",
    "for n in range(len(num)):\n",
    "    if user == n:\n",
    "        print(True)\n",
    "    else:\n",
    "        pass\n",
    "\n",
    "        "
   ]
  },
  {
   "cell_type": "code",
   "execution_count": null,
   "id": "b65b959f",
   "metadata": {},
   "outputs": [],
   "source": []
  },
  {
   "cell_type": "code",
   "execution_count": null,
   "id": "2ee669d9",
   "metadata": {},
   "outputs": [],
   "source": []
  }
 ],
 "metadata": {
  "kernelspec": {
   "display_name": "Python 3 (ipykernel)",
   "language": "python",
   "name": "python3"
  },
  "language_info": {
   "codemirror_mode": {
    "name": "ipython",
    "version": 3
   },
   "file_extension": ".py",
   "mimetype": "text/x-python",
   "name": "python",
   "nbconvert_exporter": "python",
   "pygments_lexer": "ipython3",
   "version": "3.9.7"
  }
 },
 "nbformat": 4,
 "nbformat_minor": 5
}
