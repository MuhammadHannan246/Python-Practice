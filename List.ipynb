{
  "nbformat": 4,
  "nbformat_minor": 0,
  "metadata": {
    "colab": {
      "name": "List.ipynb",
      "provenance": []
    },
    "kernelspec": {
      "name": "python3",
      "display_name": "Python 3"
    },
    "language_info": {
      "name": "python"
    }
  },
  "cells": [
    {
      "cell_type": "code",
      "execution_count": 2,
      "metadata": {
        "colab": {
          "base_uri": "https://localhost:8080/"
        },
        "id": "DvHdLbaP-1cm",
        "outputId": "c7570de4-d4d0-4b39-9f5e-8d353ca4cee0"
      },
      "outputs": [
        {
          "output_type": "stream",
          "name": "stdout",
          "text": [
            "['Gilgit', 'Hyderabad', 'Islamabad', 'Lahore', 'Peshawar', 'Quetta', 'Rawalpindi', 'Sawat', 'Sialkot', 'karachi']\n",
            "['Gilgit', 'Hyderabad', 'Islamabad', 'Lahore', 'Peshawar', 'Quetta', 'Rawalpindi', 'Sawat', 'Sialkot', 'karachi']\n",
            "['karachi', 'Sialkot', 'Sawat', 'Rawalpindi', 'Quetta', 'Peshawar', 'Lahore', 'Islamabad', 'Hyderabad', 'Gilgit']\n",
            "['Rawalpindi', 'Quetta', 'Peshawar', 'Lahore', 'Islamabad']\n",
            "['karachi', 'Sialkot', 'Sawat', 'Rawalpindi', 'Quetta', 'Peshawar', 'Lahore', 'Islamabad', 'Hyderabad', 'Gilgit']\n"
          ]
        }
      ],
      "source": [
        "cities = ['karachi', 'Islamabad', 'Lahore','Peshawar','Quetta','Hyderabad','Sawat','Rawalpindi','Gilgit', 'Sialkot']\n",
        "     #      0            1            2        3         4          5         6           7         8          9\n",
        "cities.sort()\n",
        "print(cities)\n",
        "print(sorted(cities))\n",
        "cities.sort(reverse = True)\n",
        "print(cities)\n",
        "subList = cities[3:8]\n",
        "anotherList = subList\n",
        "print(anotherList)\n",
        "print(sorted(cities,reverse = True))\n"
      ]
    },
    {
      "cell_type": "code",
      "source": [
        ""
      ],
      "metadata": {
        "id": "sGwIYgKA-3zH"
      },
      "execution_count": null,
      "outputs": []
    }
  ]
}